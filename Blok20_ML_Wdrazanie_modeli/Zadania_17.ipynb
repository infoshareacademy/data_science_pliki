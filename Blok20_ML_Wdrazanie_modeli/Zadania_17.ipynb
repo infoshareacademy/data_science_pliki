{
  "nbformat": 4,
  "nbformat_minor": 0,
  "metadata": {
    "colab": {
      "provenance": []
    },
    "kernelspec": {
      "name": "python3",
      "display_name": "Python 3"
    },
    "language_info": {
      "name": "python"
    }
  },
  "cells": [
    {
      "cell_type": "markdown",
      "source": [
        "17.1\n",
        "\n",
        "Zadaniem jest stworzenie prostego interfejsu programistycznego (API) przy użyciu frameworku Flask w języku Python.\n",
        "\n",
        "Twoje API powinno obsługiwać zapytania HTTP GET i POST, umoźliwiając uźytkownikowi pobieranie informacji oraz dodawanie nowych danych."
      ],
      "metadata": {
        "id": "n8RcflDb85jY"
      }
    },
    {
      "cell_type": "code",
      "execution_count": null,
      "metadata": {
        "colab": {
          "base_uri": "https://localhost:8080/"
        },
        "id": "2zwm5IWU8wH6",
        "outputId": "e8ba6654-ba05-4060-d13f-cebff8bc3d3c"
      },
      "outputs": [],
      "source": []
    },
    {
      "cell_type": "code",
      "source": [],
      "metadata": {
        "colab": {
          "base_uri": "https://localhost:8080/"
        },
        "id": "Eck_gqSj9ddj",
        "outputId": "2e01a13e-fd2e-4c1e-8316-7de15a3d978d"
      },
      "execution_count": null,
      "outputs": []
    },
    {
      "cell_type": "code",
      "source": [],
      "metadata": {
        "id": "mdsZRwIp9uig"
      },
      "execution_count": null,
      "outputs": []
    },
    {
      "cell_type": "code",
      "source": [],
      "metadata": {
        "id": "YXBhf6zk90Iw"
      },
      "execution_count": null,
      "outputs": []
    },
    {
      "cell_type": "markdown",
      "source": [
        "17.2\n",
        "\n",
        "Zadaniem jest stworzenie pliku docker-compose.yml do konteneryzacji dwóch usług: aplikacji Pythona opartej na Flask oraz bazy danych Redis. Aplikacja Pythona powinna korzystać z bazy danych Redis do przechowywania prostych wiadomości."
      ],
      "metadata": {
        "id": "hRVKgyKv92GM"
      }
    },
    {
      "cell_type": "code",
      "source": [],
      "metadata": {
        "id": "oI6FWB0x-fsS"
      },
      "execution_count": null,
      "outputs": []
    },
    {
      "cell_type": "code",
      "source": [],
      "metadata": {
        "id": "ZPLuAjcd-Es7"
      },
      "execution_count": null,
      "outputs": []
    },
    {
      "cell_type": "code",
      "source": [],
      "metadata": {
        "id": "su8Dremk-dPg"
      },
      "execution_count": null,
      "outputs": []
    },
    {
      "cell_type": "code",
      "source": [],
      "metadata": {
        "id": "ZInqoXqB-lAw"
      },
      "execution_count": null,
      "outputs": []
    },
    {
      "cell_type": "code",
      "source": [],
      "metadata": {
        "id": "1_22x-MY-n28"
      },
      "execution_count": null,
      "outputs": []
    },
    {
      "cell_type": "code",
      "source": [],
      "metadata": {
        "id": "OdPikBxL-qgv"
      },
      "execution_count": null,
      "outputs": []
    },
    {
      "cell_type": "code",
      "source": [],
      "metadata": {
        "id": "MQSKg6sn-tl4"
      },
      "execution_count": null,
      "outputs": []
    },
    {
      "cell_type": "markdown",
      "source": [
        "17.3\n",
        "\n",
        "Zadaniem jest wdroźenie modelu mlflow:\n",
        "- skorzystaj z wybranego zbioru danych biblioteki np. sklearn,\n",
        "- przygotuj dane,\n",
        "- zaimplementuj wybrany model,\n",
        "- uźyj mlflow do zapisania modelu po treningu,\n",
        "- zapisz model mlflow i zweryfikuj poprawność modelu na zbiorze testowym."
      ],
      "metadata": {
        "id": "GvIPFZts-zFM"
      }
    },
    {
      "cell_type": "code",
      "source": [],
      "metadata": {
        "colab": {
          "base_uri": "https://localhost:8080/"
        },
        "id": "kLG0hGSQ_Dc1",
        "outputId": "1fd17115-5441-4bcb-da82-269591a78b2e"
      },
      "execution_count": null,
      "outputs": []
    },
    {
      "cell_type": "code",
      "source": [],
      "metadata": {
        "colab": {
          "base_uri": "https://localhost:8080/"
        },
        "id": "lr-0kiml_cav",
        "outputId": "aa6920ed-6708-491a-e70c-a509742c4f1a"
      },
      "execution_count": null,
      "outputs": []
    },
    {
      "cell_type": "code",
      "source": [],
      "metadata": {
        "id": "B2Ew2SGQ_4K8"
      },
      "execution_count": null,
      "outputs": []
    }
  ]
}