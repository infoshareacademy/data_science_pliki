{
  "nbformat": 4,
  "nbformat_minor": 0,
  "metadata": {
    "colab": {
      "provenance": []
    },
    "kernelspec": {
      "name": "python3",
      "display_name": "Python 3"
    },
    "language_info": {
      "name": "python"
    }
  },
  "cells": [
    {
      "cell_type": "code",
      "execution_count": 1,
      "metadata": {
        "id": "SGpl2-iEZl75"
      },
      "outputs": [],
      "source": [
        "from scipy import stats as st\n",
        "import matplotlib.pyplot as plt\n",
        "import numpy as np\n",
        "%matplotlib inline"
      ]
    },
    {
      "cell_type": "markdown",
      "source": [
        "Wygenerownie wszystkich moĹźliwych wartoĹci przyjmowanych przez tÄ zmiennÄ losowÄ i odpowiadajÄcych im czÄstoĹci:"
      ],
      "metadata": {
        "id": "-jumNYdAZy__"
      }
    },
    {
      "cell_type": "code",
      "source": [
        "W=dict()\n",
        "for i in range(1,7):\n",
        "    for j in range(1,7):\n",
        "        if i+j in W:\n",
        "            W[i+j]+=1 # jeĹli klucz juĹź istnieje po prostu dolicz do odpowiadajacej mu wartoĹci 1\n",
        "        else:\n",
        "            W[i+j]=1 # jeĹli klucz nie istnieje, utwĂłrz klucz i ustaw liczbÄ jego wystÄpieĹ rĂłwnÄ 1\n",
        "\n",
        "W  # wypisz zdarzenia i czÄstoĹci"
      ],
      "metadata": {
        "colab": {
          "base_uri": "https://localhost:8080/"
        },
        "id": "h5j0o-BjZ0EB",
        "outputId": "04e402d1-5af7-4c80-e554-f0f9ff3f24a7"
      },
      "execution_count": 2,
      "outputs": [
        {
          "output_type": "execute_result",
          "data": {
            "text/plain": [
              "{2: 1, 3: 2, 4: 3, 5: 4, 6: 5, 7: 6, 8: 5, 9: 4, 10: 3, 11: 2, 12: 1}"
            ]
          },
          "metadata": {},
          "execution_count": 2
        }
      ]
    },
    {
      "cell_type": "code",
      "source": [
        "P=sorted(list(W.items()), key=lambda x: x[0]) # posortowanie krotek po wartoĹciach zmiennej losowej x\n",
        "\n",
        "xk = list(map(lambda x:x[0],P)) # wartoĹci przyjmowane przez zmiennÄ losowÄ\n",
        "#okreĹlenie prawdopodobieĹstw\n",
        "pk = list(map(lambda x:x[-1],P)) # obliczenie czÄstoĹci\n",
        "N = sum(pk) # obliczenie sumy iloĹci zdarzeĹ\n",
        "pk = list(map(lambda x:x/N,pk)) # ostatecznie - policzone prawdopodobieĹstwa\n",
        "\n",
        "rozklad = st.rv_discrete(name='RozkĹad z Äw.', values=(xk, pk)) #utworzenie rozkĹadu"
      ],
      "metadata": {
        "id": "V18g_y1yZ65m"
      },
      "execution_count": 3,
      "outputs": []
    },
    {
      "cell_type": "code",
      "source": [
        "E = rozklad.expect() # wartoĹÄ oczekiwana\n",
        "V = rozklad.var() # wariancja\n",
        "[E,V]"
      ],
      "metadata": {
        "colab": {
          "base_uri": "https://localhost:8080/"
        },
        "id": "tnFcAwUCZ-Bl",
        "outputId": "00fc414e-0082-4270-8071-99aef5a185f3"
      },
      "execution_count": 4,
      "outputs": [
        {
          "output_type": "execute_result",
          "data": {
            "text/plain": [
              "[6.999999999999998, 5.833333333333357]"
            ]
          },
          "metadata": {},
          "execution_count": 4
        }
      ]
    },
    {
      "cell_type": "code",
      "source": [
        "xk=rozklad.xk\n",
        "p = rozklad.pmf(xk)\n",
        "F = rozklad.cdf(xk)\n",
        "plt.vlines(xk, 0, p, colors='r', lw=4)\n",
        "plt.hlines(np.append([0],F), np.append([min(xk)-1],xk), np.append(xk,[max(xk)+1]), colors='b', lw=2)\n",
        "plt.legend([\"p(x) - prawdopodobieĹstwo\",\"F(x) - dystrybuanta\"])\n",
        "pass"
      ],
      "metadata": {
        "colab": {
          "base_uri": "https://localhost:8080/",
          "height": 430
        },
        "id": "ch4xZ5VIaBq1",
        "outputId": "58a38cef-9f02-417e-c0ac-e442c6cbbba0"
      },
      "execution_count": 5,
      "outputs": [
        {
          "output_type": "display_data",
          "data": {
            "text/plain": [
              "<Figure size 640x480 with 1 Axes>"
            ],
            "image/png": "[encoded data removed]"
          },
          "metadata": {}
        }
      ]
    }
  ]
}
