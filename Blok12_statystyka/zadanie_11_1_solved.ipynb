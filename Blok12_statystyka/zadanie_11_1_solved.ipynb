{
  "cells": [
    {
      "cell_type": "markdown",
      "metadata": {
        "id": "NMj0Nn4Ml8tN"
      },
      "source": [
        "Pewna firma rozważa dołączanie do zakupu pakietu próbek kosmetyków. Do wyboru jest $10$ różnych produktów, przy czym pakiet testowy ma się składać z próbek $3$ różnych produktów. Ile jest możliwych pakietóww próbek? Wypisz wszystkie rodzaje pakietów gratisowych."
      ]
    },
    {
      "cell_type": "code",
      "execution_count": null,
      "metadata": {
        "id": "Ghv36WhIl8tO",
        "outputId": "3c3cf242-f717-4a0e-824c-2ba7d67e1793"
      },
      "outputs": [
        {
          "data": {
            "text/plain": [
              "120.0"
            ]
          },
          "execution_count": 1,
          "metadata": {},
          "output_type": "execute_result"
        }
      ],
      "source": [
        "from scipy.special import binom\n",
        "binom(10,3) # symbol Newtona, obliczona wartość zwraca liczbę kombinacji bez powtórzeń"
      ]
    },
    {
      "cell_type": "code",
      "execution_count": null,
      "metadata": {
        "id": "pROje4Qml8tP",
        "outputId": "26c34dc3-8ee6-490f-b983-03b32324ba7b"
      },
      "outputs": [
        {
          "data": {
            "text/plain": [
              "{(1, 2, 3),\n",
              " (1, 2, 4),\n",
              " (1, 2, 5),\n",
              " (1, 2, 6),\n",
              " (1, 2, 7),\n",
              " (1, 2, 8),\n",
              " (1, 2, 9),\n",
              " (1, 2, 10),\n",
              " (1, 3, 4),\n",
              " (1, 3, 5),\n",
              " (1, 3, 6),\n",
              " (1, 3, 7),\n",
              " (1, 3, 8),\n",
              " (1, 3, 9),\n",
              " (1, 3, 10),\n",
              " (1, 4, 5),\n",
              " (1, 4, 6),\n",
              " (1, 4, 7),\n",
              " (1, 4, 8),\n",
              " (1, 4, 9),\n",
              " (1, 4, 10),\n",
              " (1, 5, 6),\n",
              " (1, 5, 7),\n",
              " (1, 5, 8),\n",
              " (1, 5, 9),\n",
              " (1, 5, 10),\n",
              " (1, 6, 7),\n",
              " (1, 6, 8),\n",
              " (1, 6, 9),\n",
              " (1, 6, 10),\n",
              " (1, 7, 8),\n",
              " (1, 7, 9),\n",
              " (1, 7, 10),\n",
              " (1, 8, 9),\n",
              " (1, 8, 10),\n",
              " (1, 9, 10),\n",
              " (2, 3, 4),\n",
              " (2, 3, 5),\n",
              " (2, 3, 6),\n",
              " (2, 3, 7),\n",
              " (2, 3, 8),\n",
              " (2, 3, 9),\n",
              " (2, 3, 10),\n",
              " (2, 4, 5),\n",
              " (2, 4, 6),\n",
              " (2, 4, 7),\n",
              " (2, 4, 8),\n",
              " (2, 4, 9),\n",
              " (2, 4, 10),\n",
              " (2, 5, 6),\n",
              " (2, 5, 7),\n",
              " (2, 5, 8),\n",
              " (2, 5, 9),\n",
              " (2, 5, 10),\n",
              " (2, 6, 7),\n",
              " (2, 6, 8),\n",
              " (2, 6, 9),\n",
              " (2, 6, 10),\n",
              " (2, 7, 8),\n",
              " (2, 7, 9),\n",
              " (2, 7, 10),\n",
              " (2, 8, 9),\n",
              " (2, 8, 10),\n",
              " (2, 9, 10),\n",
              " (3, 4, 5),\n",
              " (3, 4, 6),\n",
              " (3, 4, 7),\n",
              " (3, 4, 8),\n",
              " (3, 4, 9),\n",
              " (3, 4, 10),\n",
              " (3, 5, 6),\n",
              " (3, 5, 7),\n",
              " (3, 5, 8),\n",
              " (3, 5, 9),\n",
              " (3, 5, 10),\n",
              " (3, 6, 7),\n",
              " (3, 6, 8),\n",
              " (3, 6, 9),\n",
              " (3, 6, 10),\n",
              " (3, 7, 8),\n",
              " (3, 7, 9),\n",
              " (3, 7, 10),\n",
              " (3, 8, 9),\n",
              " (3, 8, 10),\n",
              " (3, 9, 10),\n",
              " (4, 5, 6),\n",
              " (4, 5, 7),\n",
              " (4, 5, 8),\n",
              " (4, 5, 9),\n",
              " (4, 5, 10),\n",
              " (4, 6, 7),\n",
              " (4, 6, 8),\n",
              " (4, 6, 9),\n",
              " (4, 6, 10),\n",
              " (4, 7, 8),\n",
              " (4, 7, 9),\n",
              " (4, 7, 10),\n",
              " (4, 8, 9),\n",
              " (4, 8, 10),\n",
              " (4, 9, 10),\n",
              " (5, 6, 7),\n",
              " (5, 6, 8),\n",
              " (5, 6, 9),\n",
              " (5, 6, 10),\n",
              " (5, 7, 8),\n",
              " (5, 7, 9),\n",
              " (5, 7, 10),\n",
              " (5, 8, 9),\n",
              " (5, 8, 10),\n",
              " (5, 9, 10),\n",
              " (6, 7, 8),\n",
              " (6, 7, 9),\n",
              " (6, 7, 10),\n",
              " (6, 8, 9),\n",
              " (6, 8, 10),\n",
              " (6, 9, 10),\n",
              " (7, 8, 9),\n",
              " (7, 8, 10),\n",
              " (7, 9, 10),\n",
              " (8, 9, 10)}"
            ]
          },
          "execution_count": 3,
          "metadata": {},
          "output_type": "execute_result"
        }
      ],
      "source": [
        "from itertools import combinations\n",
        "\n",
        "produkty = set(range(1,11)) #dany produkt jest oznaczony liczbą od 1 do 10\n",
        "gratisy = set( combinations(produkty,3) )\n",
        "gratisy"
      ]
    }
  ],
  "metadata": {
    "kernelspec": {
      "display_name": "Python 3 (ipykernel)",
      "language": "python",
      "name": "python3"
    },
    "language_info": {
      "codemirror_mode": {
        "name": "ipython",
        "version": 3
      },
      "file_extension": ".py",
      "mimetype": "text/x-python",
      "name": "python",
      "nbconvert_exporter": "python",
      "pygments_lexer": "ipython3",
      "version": "3.8.12"
    },
    "colab": {
      "provenance": []
    }
  },
  "nbformat": 4,
  "nbformat_minor": 0
}
