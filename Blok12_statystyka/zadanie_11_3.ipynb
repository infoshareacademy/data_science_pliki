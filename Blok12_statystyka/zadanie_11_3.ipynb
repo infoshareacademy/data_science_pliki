{
  "nbformat": 4,
  "nbformat_minor": 0,
  "metadata": {
    "colab": {
      "provenance": []
    },
    "kernelspec": {
      "name": "python3",
      "display_name": "Python 3"
    },
    "language_info": {
      "name": "python"
    }
  },
  "cells": [
    {
      "cell_type": "markdown",
      "metadata": {
        "id": "corrected-markdown"
      },
      "source": [
        "Wygenerowanie wszystkich możliwych wartości przyjmowanych przez tę zmienną losową i odpowiadających im częstości:"
      ]
    },
    {
      "cell_type": "code",
      "execution_count": null,
      "metadata": {
        "id": "code-dice-sums"
      },
      "outputs": [],
      "source": [
        "W = dict()\n",
        "for i in range(1, 7):\n",
        "    for j in range(1, 7):\n",
        "        if i + j in W:\n",
        "            W[i + j] += 1  # jeśli klucz już istnieje, dolicz do odpowiadającej mu wartości 1\n",
        "        else:\n",
        "            W[i + j] = 1  # jeśli klucz nie istnieje, utwórz klucz i ustaw liczbę jego wystąpień równą 1\n",
        "\n",
        "W  # wypisz zdarzenia i częstości"
      ]
    },
    {
      "cell_type": "code",
      "execution_count": null,
      "metadata": {
        "id": "code-distribution"
      },
      "outputs": [],
      "source": [
        "from scipy import stats as st\n",
        "import numpy as np\n",
        "\n",
        "P = sorted(list(W.items()), key=lambda x: x[0])  # posortowanie krotek po wartościach zmiennej losowej x\n",
        "xk = list(map(lambda x: x[0], P))  # wartości przyjmowane przez zmienną losową\n",
        "# określenie prawdopodobieństw\n",
        "pk = list(map(lambda x: x[-1], P))  # obliczenie częstości\n",
        "N = sum(pk)  # obliczenie sumy ilości zdarzeń\n",
        "pk = list(map(lambda x: x / N, pk))  # ostatecznie - policzone prawdopodobieństwa\n",
        "rozklad = st.rv_discrete(name='Rozkład ćw.', values=(xk, pk))"
      ]
    }
  ]
}