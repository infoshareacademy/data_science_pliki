{
  "cells": [
    {
      "cell_type": "markdown",
      "metadata": {
        "id": "NMj0Nn4Ml8tN"
      },
      "source": [
        "Pewna firma rozważa dołączanie do zakupu pakietu próbek kosmetyków. Do wyboru jest $10$ różnych produktów, przy czym pakiet testowy ma się składać z próbek $3$ różnych produktów. Ile jest możliwych pakietów próbek? Wypisz wszystkie rodzaje pakietów gratisowych."
      ]
    },
    {
      "cell_type": "code",
      "execution_count": null,
      "metadata": {
        "id": "Ghv36WhIl8tO",
        "outputId": "3c3cf242-f717-4a0e-824c-2ba7d67e1793"
      },
      "outputs": [
        {
          "data": {
            "text/plain": [
              "120.0"
            ]
          },
          "execution_count": 1,
          "metadata": {},
          "output_type": "execute_result"
        }
      ],
      "source": [
        "from scipy.special import binom\n",
        "binom(10,3) # symbol Newtona, obliczona wartość zwraca liczbę kombinacji bez powtórzeń"
      ]
    },
    {
      "cell_type": "code",
      "execution_count": null,
      "metadata": {
        "id": "pROje4Qml8tP",
        "outputId": "26c34dc3-8ee6-490f-b983-03b32324ba7b"
      },
      "outputs": [],
      "source": [
        "from itertools import combinations\n",
        "\n",
        "produkty = set(range(1,11)) # dany produkt jest oznaczony liczbą od 1 do 10\n",
        "gratisy = set(combinations(produkty, 3))\n",
        "gratisy"
      ]
    }
  ],
  "metadata": {
    "kernelspec": {
      "display_name": "Python 3 (ipykernel)",
      "language": "python",
      "name": "python3"
    },
    "language_info": {
      "codemirror_mode": {
        "name": "ipython",
        "version": 3
      },
      "file_extension": ".py",
      "mimetype": "text/x-python",
      "name": "python",
      "nbconvert_exporter": "python",
      "pygments_lexer": "ipython3",
      "version": "3.8.12"
    },
    "colab": {
      "provenance": []
    }
  },
  "nbformat": 4,
  "nbformat_minor": 0
}