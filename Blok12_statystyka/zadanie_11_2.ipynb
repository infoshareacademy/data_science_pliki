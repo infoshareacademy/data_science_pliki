from nbformat import v4 as nbf
import json

# Tworzymy strukturę notebooka z poprawionymi komentarzami
cells = []

cells.append(nbf.new_code_cell("import pandas as pd"))
cells.append(nbf.new_code_cell('df = pd.read_csv("user-languages.csv")'))
cells.append(nbf.new_code_cell("df.head()"))
cells.append(nbf.new_code_cell("df_work = pd.DataFrame()"))
cells.append(nbf.new_code_cell(
    'df_work["jupyter"] = (df["jupyter notebook"] + df["jupyter"] + df["jupyter-notebook"]) > 0  # wybranie wszystkich rekordów, w których wspomniano termin jupyter i przypisanie im wartości 1'
))
cells.append(nbf.new_code_cell(
    'df_work["python"] = (df["python"] + df["ipython"] + df["ipython-notebook"]) > 0  # wybranie wszystkich rekordów, w których wspomniano Pythona'
))
cells.append(nbf.new_code_cell(
    'df_work.dropna(inplace=True)  # usunięcie wartości brakujących'
))
cells.append(nbf.new_code_cell("df_work.head()"))
cells.append(nbf.new_code_cell(
    'T = df_work.describe()  # podsumowanie utworzonej tabelki i zapisanie jej do zmiennej T\nT'
))
cells.append(nbf.new_code_cell(
    'N = T.loc["count"].iloc[0]  # wybranie liczebności próby, tj. odpowiedzi respondentów\n'
    'Nj = sum(df_work["jupyter"])  # liczba respondentów używających technologii Jupyter\n'
    'Np = sum(df_work["python"])  # liczba respondentów używających Pythona\n'
    'Npj = sum((df_work["jupyter"]) & (df_work["python"]))  # liczba respondentów używających Jupytera oraz Pythona'
))
cells.append(nbf.new_code_cell("P = dict()"))
cells.append(nbf.new_code_cell(
    'P["jupyter"] = Nj / N  # prawdopodobieństwo, że respondent używa środowiska Jupyter\n'
    'P["python"] = Np / N  # prawdopodobieństwo, że respondent używa języka Python\n'
    'P["jupyter and python"] = Npj / N  # prawdopodobieństwo, że respondent używa Jupytera oraz Pythona\n'
    'P["jupyter|python"] = P["jupyter and python"] / P["python"]  # prawdopodobieństwo, że respondent używa Jupytera jeśli używa Pythona\n'
    'P["python|jupyter"] = P["jupyter and python"] / P["jupyter"]  # prawdopodobieństwo, że respondent używa Pythona jeśli używa Jupytera\n'
    'P'
))

# Tworzymy obiekt notebooka
notebook = nbf.new_notebook(cells=cells, metadata={
    "kernelspec": {
        "name": "python3",
        "display_name": "Python 3"
    },
    "language_info": {
        "name": "python"
    }
})

# Zapisujemy do pliku
from pathlib import Path
output_path = Path("/mnt/data/poprawiony_notebook.ipynb")
with open(output_path, "w", encoding="utf-8") as f:
    json.dump(notebook, f)

str(output_path)

