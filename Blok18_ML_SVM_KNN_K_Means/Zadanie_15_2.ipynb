{
  "nbformat": 4,
  "nbformat_minor": 0,
  "metadata": {
    "colab": {
      "provenance": []
    },
    "kernelspec": {
      "name": "python3",
      "display_name": "Python 3"
    },
    "language_info": {
      "name": "python"
    }
  },
  "cells": [
    {
      "cell_type": "code",
      "execution_count": null,
      "metadata": {
        "id": "jSYCb26oO-Wh"
      },
      "outputs": [],
      "source": [
        "df = datasets.make_moons(n_samples=500, random_state=0, noise = .09)\n",
        "X = pd.DataFrame(df[0], columns=['a', 'b'])\n",
        "y = df[1]\n",
        "sns.scatterplot(X.a, X.b, hue = y);"
      ]
    }
  ]
}
