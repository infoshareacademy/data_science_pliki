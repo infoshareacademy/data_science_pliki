{
  "nbformat": 4,
  "nbformat_minor": 0,
  "metadata": {
    "colab": {
      "provenance": []
    },
    "kernelspec": {
      "name": "python3",
      "display_name": "Python 3"
    },
    "language_info": {
      "name": "python"
    }
  },
  "cells": [
    {
      "cell_type": "markdown",
      "source": [
        "15.1\n",
        "\n",
        "Korzystając ze zbioru danych \"Iris\" dostępnego w bibliotece scikit-learn, zadanie klasyfikacji ma na celu przewidzenie gatunku irysa (Setosa, Versicolor, lub Virginica) na podstawie cech takich jak dugoć i szerokoć patkw oraz dugoć i szerokoć dziaek kielicha."
      ],
      "metadata": {
        "id": "ob1Cml9QZyNd"
      }
    },
    {
      "cell_type": "code",
      "execution_count": null,
      "metadata": {
        "colab": {
          "base_uri": "https://localhost:8080/"
        },
        "id": "noJDfRuoZvT-",
        "outputId": "ba3c765e-65c6-4be8-eb09-2b6e7987b8c0"
      },
      "outputs": [],
      "source": []
    },
    {
      "cell_type": "markdown",
      "source": [
        "15.1\n",
        "\n",
        "Dla tego zadania, skorzystamy z zbioru danych \"Boston House Prices\" dostępnego w scikit-learn. Celem jest przewidzenie cen domw w Bostonie na podstawie rnych cech, takich jak liczba pokoi, wspczynnik przestępczoci w okolicy, czy odlegoć do zatrudnienia."
      ],
      "metadata": {
        "id": "3u5Sa7tvauHG"
      }
    },
    {
      "cell_type": "code",
      "source": [],
      "metadata": {
        "colab": {
          "base_uri": "https://localhost:8080/"
        },
        "id": "ozgmuT1la06X",
        "outputId": "74ebbe7a-05fc-48b1-b2a6-f7ec213a4a53"
      },
      "execution_count": null,
      "outputs": []
    },
    {
      "cell_type": "markdown",
      "source": [
        "15.2\n",
        "\n",
        "Dla zbioru danych poniej stwrz modele SVM z kernelem liniowym, radial i polynominal w kilku wariantach stopni wielomianu. Narysuj wykresy oraz policz skutecznoć modeli. Ktry by najskuteczniejszy?"
      ],
      "metadata": {
        "id": "ZM3N-Bt6bw83"
      }
    },
    {
      "cell_type": "code",
      "source": [],
      "metadata": {
        "colab": {
          "base_uri": "https://localhost:8080/",
          "height": 1000
        },
        "id": "XNJbAMvzb1G7",
        "outputId": "6424ec0b-8aaf-4c34-8453-2a4d3b5a9006"
      },
      "execution_count": null,
      "outputs": []
    },
    {
      "cell_type": "markdown",
      "source": [
        "15.3\n",
        "\n",
        "- Uyj klasyfikatora SVM z kernela liniowego w podejciu One-vs-One do klasyfikacji trzech klas (setosa, versicolor, virginica) na podstawie cech kwiatw z datasetu Iris.\n",
        "- Podziel zbiĂłr danych na zbiĂłr treningowy i testowy.\n",
        "- Wytrenuj model SVM za pomocą podejcia OvO.\n",
        "- Dokonaj predykcji dla danych testowych.\n",
        "- Oce dokadnoć modelu."
      ],
      "metadata": {
        "id": "lD41ccLZdT4Z"
      }
    },
    {
      "cell_type": "code",
      "source": [],
      "metadata": {
        "colab": {
          "base_uri": "https://localhost:8080/"
        },
        "id": "JRnfH9uddVW6",
        "outputId": "7d9a5090-3c67-426e-811a-b90fddd238d9"
      },
      "execution_count": null,
      "outputs": []
    },
    {
      "cell_type": "markdown",
      "source": [
        "15.3\n",
        "\n",
        "- Uyj klasyfikatora SVM z kernela liniowego w podejciu One-vs-Rest do klasyfikacji trzech klas na podstawie tych samych danych Iris.\n",
        "- Podziel zbiĂłr danych na zbiĂłr treningowy i testowy.\n",
        "- Wytrenuj model SVM za pomocą podejcia OvR.\n",
        "- Dokonaj predykcji dla danych testowych.\n",
        "- Oce dokadnoć modelu."
      ],
      "metadata": {
        "id": "09_BKjF2eKHi"
      }
    },
    {
      "cell_type": "code",
      "source": [],
      "metadata": {
        "colab": {
          "base_uri": "https://localhost:8080/"
        },
        "id": "BEZdQyJzeR1S",
        "outputId": "e0db856d-84a7-4484-adfb-8c2c766d7ccd"
      },
      "execution_count": null,
      "outputs": []
    },
    {
      "cell_type": "markdown",
      "source": [
        "15.4\n",
        "\n",
        "Zbir mnist (pierwszych 2000 obserwacji) podziel na zbiory: treningowy walidacyjny, testowy w stosunku 60%, 20% 20%. Następnie sprbuj znaleć najlepszy model SVM. Przetestuj rne kernele i ich hiperparametry (C, gamma) sprawdzając skutecznoć (accuracy score) na zbiorze walidacyjnym. Wybierz najlepszy model i na kocu policz skutecznoć tego modelu na zbiorze testowym."
      ],
      "metadata": {
        "id": "urfWErX9ew5h"
      }
    },
    {
      "cell_type": "code",
      "source": [],
      "metadata": {
        "colab": {
          "base_uri": "https://localhost:8080/"
        },
        "id": "wnqpqbhfexs7",
        "outputId": "4a97ecef-f64f-460f-9e1e-d1a5e8887e8e"
      },
      "execution_count": null,
      "outputs": []
    },
    {
      "cell_type": "markdown",
      "source": [
        "15.5\n",
        "\n",
        "Twoim zadaniem jest zastosowanie algorytmu K-Nearest Neighbors (KNN) do klasyfikacji cech win na podstawie dostępnych pomiarw. W tym przypadku uyj zbioru danych Wine, ktry zawiera trzy klasy win (klasyfikacja na podstawie trzech rnych odmian win)."
      ],
      "metadata": {
        "id": "QW3yps8yrkv4"
      }
    },
    {
      "cell_type": "code",
      "source": [],
      "metadata": {
        "colab": {
          "base_uri": "https://localhost:8080/"
        },
        "id": "O8DmUtt3rlwK",
        "outputId": "a6291160-c2b5-4013-b1e5-216a79e7af11"
      },
      "execution_count": null,
      "outputs": []
    },
    {
      "cell_type": "markdown",
      "source": [
        "15.6\n",
        "\n",
        "Dla zbioru danych Iris z biblioteki sklearn. Zastosuj algorytm K-Means do klastrowania tych danych w celu zidentyfikowania naturalnych grup."
      ],
      "metadata": {
        "id": "f4gPblnYsIMk"
      }
    },
    {
      "cell_type": "code",
      "source": [],
      "metadata": {
        "colab": {
          "base_uri": "https://localhost:8080/",
          "height": 581
        },
        "id": "N3pyFHKosJb8",
        "outputId": "0e8f9c83-dca6-40f4-ea86-26d9344c3979"
      },
      "execution_count": null,
      "outputs": []
    },
    {
      "cell_type": "markdown",
      "source": [
        "15.7\n",
        "\n",
        "Dla zbioru danych load_digits() znajd optymalną liczbę klastrw za pomocą algorytmu K-Means i metody „okcia”."
      ],
      "metadata": {
        "id": "FaONgGxos9Ji"
      }
    },
    {
      "cell_type": "code",
      "source": [],
      "metadata": {
        "colab": {
          "base_uri": "https://localhost:8080/",
          "height": 564
        },
        "id": "fXvNoaKZs9ew",
        "outputId": "3211c814-4691-4ae2-ce2c-bf0dbf178ed5"
      },
      "execution_count": null,
      "outputs": []
    }
  ]
}