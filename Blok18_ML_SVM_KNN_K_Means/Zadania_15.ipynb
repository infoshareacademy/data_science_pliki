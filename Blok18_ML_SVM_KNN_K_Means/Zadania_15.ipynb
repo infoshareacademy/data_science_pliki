Jasne, oto poprawiona zawartość Twojego pliku z właściwym kodowaniem polskich znaków. Problem polegał na tym, że tekst zapisany w standardzie UTF-8 został błędnie zinterpretowany.

Skopiuj poniższą, poprawioną treść i wklej ją do swojego pliku `15.ipynb`, aby rozwiązać problem z wyświetlaniem znaków.

```json
{
  "nbformat": 4,
  "nbformat_minor": 0,
  "metadata": {
    "colab": {
      "provenance": []
    },
    "kernelspec": {
      "name": "python3",
      "display_name": "Python 3"
    },
    "language_info": {
      "name": "python"
    }
  },
  "cells": [
    {
      "cell_type": "markdown",
      "source": [
        "15.1\n",
        "\n",
        "Korzystając ze zbioru danych \"Iris\" dostępnego w bibliotece scikit-learn, zadanie klasyfikacji ma na celu przewidzenie gatunku irysa (Setosa, Versicolor, lub Virginica) na podstawie cech takich jak długość i szerokość płatków oraz długość i szerokość działek kielicha."
      ],
      "metadata": {
        "id": "ob1Cml9QZyNd"
      }
    },
    {
      "cell_type": "code",
      "execution_count": 3,
      "metadata": {
        "colab": {
          "base_uri": "https://localhost:8080/"
        },
        "id": "noJDfRuoZvT-",
        "outputId": "ba3c765e-65c6-4be8-eb09-2b6e7987b8c0"
      },
      "outputs": [
        {
          "output_type": "execute_result",
          "data": {
            "text/plain": [
              "(1.0,\n",
              "              precision    recall  f1-score   support\\n\\n      setosa       1.00      1.00      1.00        19\\n  versicolor       1.00      1.00      1.00        13\\n   virginica       1.00      1.00      1.00        13\\n\\n    accuracy                           1.00        45\\n   macro avg       1.00      1.00      1.00        45\\nweighted avg       1.00      1.00      1.00        45\\n')"
            ]
          },
          "metadata": {},
          "execution_count": 3
        }
      ],
      "source": [
        "from sklearn.datasets import load_iris\n",
        "from sklearn.model_selection import train_test_split\n",
        "from sklearn.svm import SVC\n",
        "from sklearn.metrics import classification_report, accuracy_score\n",
        "\n",
        "# 1. Wczytanie zbioru danych Iris\n",
        "iris = load_iris()\n",
        "X = iris.data\n",
        "y = iris.target\n",
        "target_names = iris.target_names\n",
        "\n",
        "# 2. Podział danych na zbiór treningowy i testowy\n",
        "X_train, X_test, y_train, y_test = train_test_split(X, y, test_size=0.3, random_state=42)\n",
        "\n",
        "# 3. Trening modelu klasyfikacji (SVM)\n",
        "svm_classifier = SVC(kernel='linear', random_state=42)\n",
        "svm_classifier.fit(X_train, y_train)\n",
        "\n",
        "# 4. Predykcja na zbiorze testowym\n",
        "y_pred = svm_classifier.predict(X_test)\n",
        "\n",
        "# 5. Wyniki klasyfikacji\n",
        "accuracy = accuracy_score(y_test, y_pred)\n",
        "classification_rep = classification_report(y_test, y_pred, target_names=target_names)\n",
        "\n",
        "accuracy, classification_rep"
      ]
    },
    {
      "cell_type": "markdown",
      "source": [
        "15.1\n",
        "\n",
        "Dla tego zadania, skorzystamy z zbioru danych \"Boston House Prices\" dostępnego w scikit-learn. Celem jest przewidzenie cen domów w Bostonie na podstawie różnych cech, takich jak liczba pokoi, współczynnik przestępczości w okolicy, czy odległość do zatrudnienia."
      ],
      "metadata": {
        "id": "3u5Sa7tvauHG"
      }
    },
    {
      "cell_type": "code",
      "source": [
        "from sklearn.datasets import fetch_openml\n",
        "from sklearn.model_selection import train_test_split\n",
        "from sklearn.svm import SVR\n",
        "from sklearn.metrics import mean_squared_error, r2_score\n",
        "\n",
        "# 1. Wczytanie zbioru danych Boston House Prices z OpenML\n",
        "housing = fetch_openml(name=\"boston\", as_frame=True)\n",
        "X = housing.data\n",
        "y = housing.target\n",
        "\n",
        "# 2. Podział danych na zbiór treningowy i testowy\n",
        "X_train, X_test, y_train, y_test = train_test_split(X, y, test_size=0.3, random_state=42)\n",
        "\n",
        "# 3. Trening modelu regresji (SVM z jądrem liniowym)\n",
        "svm_regressor = SVR(kernel='linear')\n",
        "svm_regressor.fit(X_train, y_train)\n",
        "\n",
        "# 4. Predykcja na zbiorze testowym\n",
        "y_pred = svm_regressor.predict(X_test)\n",
        "\n",
        "# 5. Ocena modelu\n",
        "mse = mean_squared_error(y_test, y_pred)\n",
        "r2 = r2_score(y_test, y_pred)\n",
        "\n",
        "mse, r2"
      ],
      "metadata": {
        "colab": {
          "base_uri": "https://localhost:8080/"
        },
        "id": "ozgmuT1la06X",
        "outputId": "74ebbe7a-05fc-48b1-b2a6-f7ec213a4a53"
      },
      "execution_count": 4,
      "outputs": [
        {
          "output_type": "stream",
          "name": "stderr",
          "text": [
            "/usr/local/lib/python3.10/dist-packages/sklearn/datasets/_openml.py:320: UserWarning: Multiple active versions of the dataset matching the name boston exist. Versions may be fundamentally different, returning version 1. Available versions:\n",
            "- version 1, status: active\n",
            "  url: https://www.openml.org/search?type=data&id=531\n",
            "- version 2, status: active\n",
            "  url: https://www.openml.org/search?type=data&id=853\n",
            "\n",
            "  warn(warning_msg)\n"
          ]
        },
        {
          "output_type": "execute_result",
          "data": {
            "text/plain": [
              "(25.626399937370916, 0.6560819310743812)"
            ]
          },
          "metadata": {},
          "execution_count": 4
        }
      ]
    },
    {
      "cell_type": "markdown",
      "source": [
        "15.2\n",
        "\n",
        "Dla zbioru danych poniżej stwórz modele SVM z kernelem liniowym, radialnym i wielomianowym w kilku wariantach stopni wielomianu. Narysuj wykresy oraz policz skuteczność modeli. Który był najskuteczniejszy?"
      ],
      "metadata": {
        "id": "ZM3N-Bt6bw83"
      }
    },
    {
      "cell_type": "code",
      "source": [
        "import pandas as pd\n",
        "import numpy as np\n",
        "from sklearn.datasets import make_moons\n",
        "from sklearn.model_selection import train_test_split\n",
        "from sklearn.svm import SVC\n",
        "from sklearn.metrics import accuracy_score\n",
        "import matplotlib.pyplot as plt\n",
        "import seaborn as sns\n",
        "\n",
        "# 1. Generowanie danych make_moons\n",
        "df = make_moons(n_samples=500, random_state=0, noise=0.09)\n",
        "X = pd.DataFrame(df[0], columns=['a', 'b'])\n",
        "y = df[1]\n",
        "\n",
        "# Wizualizacja danych\n",
        "plt.figure(figsize=(8, 6))\n",
        "sns.scatterplot(data=X, x='a', y='b', hue=y, palette='coolwarm', edgecolor='k')\n",
        "plt.title(\"Dane make_moons\")\n",
        "plt.show()\n",
        "\n",
        "# 2. Podział na zbiór treningowy i testowy\n",
        "X_train, X_test, y_train, y_test = train_test_split(X, y, test_size=0.3, random_state=42)\n",
        "\n",
        "# 3. Trening modeli SVM z różnymi kernelami\n",
        "kernels = ['linear', 'rbf', 'poly']\n",
        "degrees = [2, 3, 4]  # Dla kernela wielomianowego\n",
        "results = {}\n",
        "\n",
        "for kernel in kernels:\n",
        "    if kernel == 'poly':\n",
        "        for degree in degrees:\n",
        "            model = SVC(kernel=kernel, degree=degree, random_state=42)\n",
        "            model.fit(X_train, y_train)\n",
        "            y_pred = model.predict(X_test)\n",
        "            accuracy = accuracy_score(y_test, y_pred)\n",
        "            results[f\"{kernel}_degree_{degree}\"] = accuracy\n",
        "    else:\n",
        "        model = SVC(kernel=kernel, random_state=42)\n",
        "        model.fit(X_train, y_train)\n",
        "        y_pred = model.predict(X_test)\n",
        "        accuracy = accuracy_score(y_test, y_pred)\n",
        "        results[kernel] = accuracy\n",
        "\n",
        "# 4. Wizualizacja granic decyzyjnych\n",
        "def plot_decision_boundaries(X, y, model, title):\n",
        "    x_min, x_max = X.iloc[:, 0].min() - 0.1, X.iloc[:, 0].max() + 0.1\n",
        "    y_min, y_max = X.iloc[:, 1].min() - 0.1, X.iloc[:, 1].max() + 0.1\n",
        "    xx, yy = np.meshgrid(np.arange(x_min, x_max, 0.01),\n",
        "                         np.arange(y_min, y_max, 0.01))\n",
        "    Z = model.predict(np.c_[xx.ravel(), yy.ravel()])\n",
        "    Z = Z.reshape(xx.shape)\n",
        "    plt.figure(figsize=(8, 6))\n",
        "    plt.contourf(xx, yy, Z, alpha=0.8, cmap='coolwarm')\n",
        "    sns.scatterplot(x=X.iloc[:, 0], y=X.iloc[:, 1], hue=y, palette='coolwarm', edgecolor='k')\n",
        "    plt.title(title)\n",
        "    plt.show()\n",
        "\n",
        "# Rysowanie granic decyzyjnych dla każdego modelu\n",
        "for kernel in kernels:\n",
        "    if kernel == 'poly':\n",
        "        for degree in degrees:\n",
        "            model = SVC(kernel=kernel, degree=degree, random_state=42)\n",
        "            model.fit(X_train, y_train)\n",
        "            plot_decision_boundaries(X, y, model, f\"SVM z kernelem: {kernel}, stopień: {degree}\")\n",
        "    else:\n",
        "        model = SVC(kernel=kernel, random_state=42)\n",
        "        model.fit(X_train, y_train)\n",
        "        plot_decision_boundaries(X, y, model, f\"SVM z kernelem: {kernel}\")\n",
        "\n",
        "# Wyniki skuteczności\n",
        "results"
      ],
      "metadata": {
        "colab": {
          "base_uri": "https://localhost:8080/",
          "height": 1000
        },
        "id": "XNJbAMvzb1G7",
        "outputId": "6424ec0b-8aaf-4c34-8453-2a4d3b5a9006"
      },
      "execution_count": 5,
      "outputs": [
        {
          "output_type": "display_data",
          "data": {
            "text/plain": [
              "<Figure size 800x600 with 1 Axes>"
            ]
          },
          "metadata": {}
        }
      ]
    }
  ]
}
```
