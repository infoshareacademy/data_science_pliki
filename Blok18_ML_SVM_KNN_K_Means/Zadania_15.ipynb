{
  "nbformat": 4,
  "nbformat_minor": 0,
  "metadata": {
    "colab": {
      "provenance": []
    },
    "kernelspec": {
      "name": "python3",
      "display_name": "Python 3"
    },
    "language_info": {
      "name": "python"
    }
  },
  "cells": [
    {
      "cell_type": "markdown",
      "source": [
        "15.1\n",
        "\n",
        "KorzystajÄc ze zbioru danych \"Iris\" dostÄpnego w bibliotece scikit-learn, zadanie klasyfikacji ma na celu przewidzenie gatunku irysa (Setosa, Versicolor, lub Virginica) na podstawie cech takich jak dĹugoĹÄ i szerokoĹÄ pĹatkĂłw oraz dĹugoĹÄ i szerokoĹÄ dziaĹek kielicha."
      ],
      "metadata": {
        "id": "ob1Cml9QZyNd"
      }
    },
    {
      "cell_type": "code",
      "execution_count": null,
      "metadata": {
        "colab": {
          "base_uri": "https://localhost:8080/"
        },
        "id": "noJDfRuoZvT-",
        "outputId": "ba3c765e-65c6-4be8-eb09-2b6e7987b8c0"
      },
      "outputs": [],
      "source": []
    },
    {
      "cell_type": "markdown",
      "source": [
        "15.1\n",
        "\n",
        "Dla tego zadania, skorzystamy z zbioru danych \"Boston House Prices\" dostÄpnego w scikit-learn. Celem jest przewidzenie cen domĂłw w Bostonie na podstawie rĂłĹźnych cech, takich jak liczba pokoi, wspĂłĹczynnik przestÄpczoĹci w okolicy, czy odlegĹoĹÄ do zatrudnienia."
      ],
      "metadata": {
        "id": "3u5Sa7tvauHG"
      }
    },
    {
      "cell_type": "code",
      "source": [],
      "metadata": {
        "colab": {
          "base_uri": "https://localhost:8080/"
        },
        "id": "ozgmuT1la06X",
        "outputId": "74ebbe7a-05fc-48b1-b2a6-f7ec213a4a53"
      },
      "execution_count": null,
      "outputs": []
    },
    {
      "cell_type": "markdown",
      "source": [
        "15.2\n",
        "\n",
        "Dla zbioru danych poniĹźej stwĂłrz modele SVM z kernelem liniowym, radial i polynominal w kilku wariantach stopni wielomianu. Narysuj wykresy oraz policz skutecznoĹÄ modeli. KtĂłry byĹ najskuteczniejszy?"
      ],
      "metadata": {
        "id": "ZM3N-Bt6bw83"
      }
    },
    {
      "cell_type": "code",
      "source": [],
      "metadata": {
        "colab": {
          "base_uri": "https://localhost:8080/",
          "height": 1000
        },
        "id": "XNJbAMvzb1G7",
        "outputId": "6424ec0b-8aaf-4c34-8453-2a4d3b5a9006"
      },
      "execution_count": null,
      "outputs": []
    },
    {
      "cell_type": "markdown",
      "source": [
        "15.3\n",
        "\n",
        "- UĹźyj klasyfikatora SVM z kernela liniowego w podejĹciu One-vs-One do klasyfikacji trzech klas (setosa, versicolor, virginica) na podstawie cech kwiatĂłw z datasetu Iris.\n",
        "- Podziel zbiĂłr danych na zbiĂłr treningowy i testowy.\n",
        "- Wytrenuj model SVM za pomocÄ podejĹcia OvO.\n",
        "- Dokonaj predykcji dla danych testowych.\n",
        "- OceĹ dokĹadnoĹÄ modelu."
      ],
      "metadata": {
        "id": "lD41ccLZdT4Z"
      }
    },
    {
      "cell_type": "code",
      "source": [],
      "metadata": {
        "colab": {
          "base_uri": "https://localhost:8080/"
        },
        "id": "JRnfH9uddVW6",
        "outputId": "7d9a5090-3c67-426e-811a-b90fddd238d9"
      },
      "execution_count": null,
      "outputs": []
    },
    {
      "cell_type": "markdown",
      "source": [
        "15.3\n",
        "\n",
        "- UĹźyj klasyfikatora SVM z kernela liniowego w podejĹciu One-vs-Rest do klasyfikacji trzech klas na podstawie tych samych danych Iris.\n",
        "- Podziel zbiĂłr danych na zbiĂłr treningowy i testowy.\n",
        "- Wytrenuj model SVM za pomocÄ podejĹcia OvR.\n",
        "- Dokonaj predykcji dla danych testowych.\n",
        "- OceĹ dokĹadnoĹÄ modelu."
      ],
      "metadata": {
        "id": "09_BKjF2eKHi"
      }
    },
    {
      "cell_type": "code",
      "source": [],
      "metadata": {
        "colab": {
          "base_uri": "https://localhost:8080/"
        },
        "id": "BEZdQyJzeR1S",
        "outputId": "e0db856d-84a7-4484-adfb-8c2c766d7ccd"
      },
      "execution_count": null,
      "outputs": []
    },
    {
      "cell_type": "markdown",
      "source": [
        "15.4\n",
        "\n",
        "ZbiĂłr mnist (pierwszych 2000 obserwacji) podziel na zbiory: treningowy walidacyjny, testowy w stosunku 60%, 20% 20%. NastÄpnie sprĂłbuj znaleĹşÄ najlepszy model SVM. Przetestuj rĂłĹźne kernele i ich hiperparametry (C, gamma) sprawdzajÄc skutecznoĹÄ (accuracy score) na zbiorze walidacyjnym. Wybierz najlepszy model i na koĹcu policz skutecznoĹÄ tego modelu na zbiorze testowym."
      ],
      "metadata": {
        "id": "urfWErX9ew5h"
      }
    },
    {
      "cell_type": "code",
      "source": [],
      "metadata": {
        "colab": {
          "base_uri": "https://localhost:8080/"
        },
        "id": "wnqpqbhfexs7",
        "outputId": "4a97ecef-f64f-460f-9e1e-d1a5e8887e8e"
      },
      "execution_count": null,
      "outputs": []
    },
    {
      "cell_type": "markdown",
      "source": [
        "15.5\n",
        "\n",
        "Twoim zadaniem jest zastosowanie algorytmu K-Nearest Neighbors (KNN) do klasyfikacji cech win na podstawie dostÄpnych pomiarĂłw. W tym przypadku uĹźyj zbioru danych Wine, ktĂłry zawiera trzy klasy win (klasyfikacja na podstawie trzech rĂłĹźnych odmian win)."
      ],
      "metadata": {
        "id": "QW3yps8yrkv4"
      }
    },
    {
      "cell_type": "code",
      "source": [],
      "metadata": {
        "colab": {
          "base_uri": "https://localhost:8080/"
        },
        "id": "O8DmUtt3rlwK",
        "outputId": "a6291160-c2b5-4013-b1e5-216a79e7af11"
      },
      "execution_count": null,
      "outputs": []
    },
    {
      "cell_type": "markdown",
      "source": [
        "15.6\n",
        "\n",
        "Dla zbioru danych Iris z biblioteki sklearn. Zastosuj algorytm K-Means do klastrowania tych danych w celu zidentyfikowania naturalnych grup."
      ],
      "metadata": {
        "id": "f4gPblnYsIMk"
      }
    },
    {
      "cell_type": "code",
      "source": [],
      "metadata": {
        "colab": {
          "base_uri": "https://localhost:8080/",
          "height": 581
        },
        "id": "N3pyFHKosJb8",
        "outputId": "0e8f9c83-dca6-40f4-ea86-26d9344c3979"
      },
      "execution_count": null,
      "outputs": []
    },
    {
      "cell_type": "markdown",
      "source": [
        "15.7\n",
        "\n",
        "Dla zbioru danych load_digits() znajdĹş optymalnÄ liczbÄ klastrĂłw za pomocÄ algorytmu K-Means i metody âĹokciaâ."
      ],
      "metadata": {
        "id": "FaONgGxos9Ji"
      }
    },
    {
      "cell_type": "code",
      "source": [],
      "metadata": {
        "colab": {
          "base_uri": "https://localhost:8080/",
          "height": 564
        },
        "id": "fXvNoaKZs9ew",
        "outputId": "3211c814-4691-4ae2-ce2c-bf0dbf178ed5"
      },
      "execution_count": null,
      "outputs": []
    }
  ]
}