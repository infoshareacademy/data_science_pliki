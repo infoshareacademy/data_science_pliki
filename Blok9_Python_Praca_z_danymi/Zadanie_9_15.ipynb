{
  "nbformat": 4,
  "nbformat_minor": 0,
  "metadata": {
    "colab": {
      "provenance": []
    },
    "kernelspec": {
      "name": "python3",
      "display_name": "Python 3"
    },
    "language_info": {
      "name": "python"
    }
  },
  "cells": [
    {
      "cell_type": "markdown",
      "source": [
        "Klasa A:\n",
        "Uczeń 1: 85\n",
        "Uczeń 2: 78\n",
        "Uczeń 3: 92\n",
        "Uczeń 4: 88\n",
        "Uczeń 5: 95\n",
        "\n",
        "Klasa B:\n",
        "Uczeń 1: 90\n",
        "Uczeń 2: 82\n",
        "Uczeń 3: 78\n",
        "Uczeń 4: 85\n",
        "Uczeń 5: 88\n",
        "\n",
        "Klasa C:\n",
        "Uczeń 1: 75\n",
        "Uczeń 2: 80\n",
        "Uczeń 3: 68\n",
        "Uczeń 4: 72\n",
        "Uczeń 5: 85"
      ],
      "metadata": {
        "id": "WdHjt5N62Eju"
      }
    },
    {
      "cell_type": "code",
      "execution_count": null,
      "metadata": {
        "id": "418h8nlP18TB"
      },
      "outputs": [],
      "source": []
    }
  ]
}
