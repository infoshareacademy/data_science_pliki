{
  "nbformat": 4,
  "nbformat_minor": 0,
  "metadata": {
    "colab": {
      "provenance": []
    },
    "kernelspec": {
      "name": "python3",
      "display_name": "Python 3"
    },
    "language_info": {
      "name": "python"
    }
  },
  "cells": [
    {
      "cell_type": "markdown",
      "source": [
        "Styczeń: 50 000\n",
        "Luty: 52 000\n",
        "Marzec: 55 000\n",
        "\n",
        "Kwiecień: 60 000\n",
        "Maj: 58 000\n",
        "Czerwiec: 62 000\n",
        "\n",
        "Lipiec: 70 000\n",
        "Sierpień: 75 000\n",
        "Wrzesień: 72 000\n",
        "\n",
        "Październik: 68 000\n",
        "Listopad: 75 000\n",
        "Grudzień: 80 000"
      ],
      "metadata": {
        "id": "TdpM5ep91rhe"
      }
    },
    {
      "cell_type": "code",
      "execution_count": null,
      "metadata": {
        "id": "Id_JD7vX1mqX"
      },
      "outputs": [],
      "source": []
    }
  ]
}
