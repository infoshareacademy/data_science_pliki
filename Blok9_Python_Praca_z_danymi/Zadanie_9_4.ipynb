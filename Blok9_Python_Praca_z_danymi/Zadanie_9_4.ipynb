{
  "nbformat": 4,
  "nbformat_minor": 0,
  "metadata": {
    "colab": {
      "provenance": []
    },
    "kernelspec": {
      "name": "python3",
      "display_name": "Python 3"
    },
    "language_info": {
      "name": "python"
    }
  },
  "cells": [
    {
      "cell_type": "code",
      "execution_count": null,
      "metadata": {
        "id": "h9j-njqAxDPa"
      },
      "outputs": [],
      "source": [
        "Kursant 1: Imię: Adam, Wiek: 26, Znane języki programowania: ['Python', 'JavaScript']\n",
        "Kursant 2: Imię: Marta, Wiek: 22, Znane języki programowania: ['Java', 'C++', 'Python']\n",
        "Kursant 3: Imię: Michał, Wiek: 24, Znane języki programowania: ['JavaScript', 'HTML', 'CSS']"
      ]
    }
  ]
}
