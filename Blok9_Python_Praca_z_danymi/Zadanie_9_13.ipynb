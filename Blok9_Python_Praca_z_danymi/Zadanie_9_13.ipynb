{
  "nbformat": 4,
  "nbformat_minor": 0,
  "metadata": {
    "colab": {
      "provenance": []
    },
    "kernelspec": {
      "name": "python3",
      "display_name": "Python 3"
    },
    "language_info": {
      "name": "python"
    }
  },
  "cells": [
    {
      "cell_type": "code",
      "execution_count": null,
      "metadata": {
        "id": "zEEWn63j0ubf"
      },
      "outputs": [],
      "source": [
        "data = {'Tytuł': ['Pan Tadeusz', 'Lalka', 'Krzyżacy', 'Ogniem i Mieczem', 'Quo Vadis'],\n",
        "'Autor': ['Adam Mickiewicz', 'Bolesław Prus', 'Henryk Sienkiewicz', 'Henryk Sienkiewicz', 'Henryk\n",
        "Sienkiewicz'],\n",
        "'Rok_wydania': [1834, 1890, 1900, None, 1896],\n",
        "'Liczba_stron': [400, None, 600, 850, None],\n",
        "'Ocena_czytelników': [4.5, 4.2, None, 4.8, 4.0]}"
      ]
    }
  ]
}
