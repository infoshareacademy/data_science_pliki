{
  "nbformat": 4,
  "nbformat_minor": 0,
  "metadata": {
    "colab": {
      "provenance": []
    },
    "kernelspec": {
      "name": "python3",
      "display_name": "Python 3"
    },
    "language_info": {
      "name": "python"
    }
  },
  "cells": [
    {
      "cell_type": "markdown",
      "source": [
        "16.1\n",
        "\n",
        "Zbiór danych zawiera dwie kolumny: \"Month\" (zawierającą daty) oraz \"Passengers\" (przedstawiającą liczbę pasażerów).\n",
        "\n",
        "PrzeprowadĹş dekompozycje sezonową zbioru, narysuj wykresy: oryginalnych danych, trendu, sezonowości oraz wykresu reszt po odjęciu sezonowości oraz trendu."
      ],
      "metadata": {
        "id": "Xkc-z4XD3Cfy"
      }
    },
    {
      "cell_type": "code",
      "execution_count": null,
      "metadata": {
        "colab": {
          "base_uri": "https://localhost:8080/",
          "height": 843
        },
        "id": "fSJ6A2lK2xK3",
        "outputId": "09d778df-768d-420d-9e92-dccdc45272c1"
      },
      "outputs": [],
      "source": []
    },
    {
      "cell_type": "markdown",
      "source": [
        "16.2\n",
        "\n",
        "Dla poniższego zbioru danych dotyczących liczby pasażerów linii lotniczych w zależności od czasu należy przeprowadzić proces transformacji, aby doprowadzić dane do stacjonarności."
      ],
      "metadata": {
        "id": "sDrtMQbq4BvA"
      }
    },
    {
      "cell_type": "code",
      "source": [],
      "metadata": {
        "colab": {
          "base_uri": "https://localhost:8080/",
          "height": 1000
        },
        "id": "EVEUz18q4C4T",
        "outputId": "5fa30540-84f3-4614-be4f-ba0920b45408"
      },
      "execution_count": null,
      "outputs": []
    },
    {
      "cell_type": "markdown",
      "source": [
        "16.3\n",
        "Dla poniższego zbioru danych wykonaj prognozowanie z użyciem modelu ARIMA."
      ],
      "metadata": {
        "id": "ofz_wP8X5PCa"
      }
    },
    {
      "cell_type": "code",
      "source": [],
      "metadata": {
        "id": "t61n0m4S5P2x",
        "colab": {
          "base_uri": "https://localhost:8080/",
          "height": 1000
        },
        "outputId": "8d33275f-3c58-47ec-fdf9-a62b8b4a97c7"
      },
      "execution_count": null,
      "outputs": []
    },
    {
      "cell_type": "markdown",
      "source": [
        "16.4\n",
        "\n",
        "Przy użyciu zbioru danych sns.load_dataset('flights’) z biblioteki seaborn wykonaj prognozowanie przy użyciu modelu SARIMAX()."
      ],
      "metadata": {
        "id": "mFpQWUL6i9aX"
      }
    },
    {
      "cell_type": "code",
      "source": [],
      "metadata": {
        "colab": {
          "base_uri": "https://localhost:8080/",
          "height": 1000
        },
        "id": "Qg8VRzywi-sW",
        "outputId": "ef81a0a3-3262-497f-a867-3d9ec53dfab5"
      },
      "execution_count": null,
      "outputs": []
    },
    {
      "cell_type": "markdown",
      "source": [
        "16.5\n",
        "\n",
        "Dla zbioru danych sns.load_dataset('flights’) z biblioteki seaborn dodaj obserwację odstającą, a następnie wytrenuj model SARIMAX, uwzględniając występowanie tego odstającego punktu, i ocenę wpływu na wyniki modelu."
      ],
      "metadata": {
        "id": "GFOG9_scjr7H"
      }
    },
    {
      "cell_type": "code",
      "source": [],
      "metadata": {
        "colab": {
          "base_uri": "https://localhost:8080/",
          "height": 1000
        },
        "id": "5ThbtooNjtRD",
        "outputId": "da3c1b92-2610-4f62-e3ae-88baf831360d"
      },
      "execution_count": null,
      "outputs": []
    }
  ]
}