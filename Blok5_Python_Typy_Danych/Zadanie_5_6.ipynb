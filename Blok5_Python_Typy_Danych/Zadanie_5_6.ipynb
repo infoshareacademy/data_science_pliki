{
  "nbformat": 4,
  "nbformat_minor": 0,
  "metadata": {
    "colab": {
      "provenance": []
    },
    "kernelspec": {
      "name": "python3",
      "display_name": "Python 3"
    },
    "language_info": {
      "name": "python"
    }
  },
  "cells": [
    {
      "cell_type": "code",
      "execution_count": null,
      "metadata": {
        "id": "3T4c2Ij28Jug"
      },
      "outputs": [],
      "source": [
        "dane_osobowe = {\"Jan Kowalski\": {\"Wiek\": 30, \"ZawĂłd\": \"InĹźynier\", \"Miasto\": âWarszawa\"},\n",
        "                \"Anna Nowak\": {\"Wiek\": 25, \"ZawĂłd\": \"Nauczyciel\", \"Miasto\": âKrakĂłwâ},\n",
        "                \"Piotr WiĹniewski\": {\"Wiek\": 35, \"ZawĂłd\": \"Lekarz\", \"Miasto\": âGdaĹsk\"}"
      ]
    },
    {
      "cell_type": "code",
      "source": [
        "\"Marta Nowak\": {\"Wiek\": 22, \"ZawĂłd\": \"Student\", âMiasto\": âPoznaĹâ}"
      ],
      "metadata": {
        "id": "_0cwt4sp8MsN"
      },
      "execution_count": null,
      "outputs": []
    }
  ]
}
