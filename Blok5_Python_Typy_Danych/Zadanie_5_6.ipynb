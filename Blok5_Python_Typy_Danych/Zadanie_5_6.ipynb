{
  "nbformat": 4,
  "nbformat_minor": 0,
  "metadata": {
    "colab": {
      "provenance": []
    },
    "kernelspec": {
      "name": "python3",
      "display_name": "Python 3"
    },
    "language_info": {
      "name": "python"
    }
  },
  "cells": [
    {
      "cell_type": "code",
      "execution_count": null,
      "metadata": {
        "id": "3T4c2Ij28Jug"
      },
      "outputs": [],
      "source": [
        "dane_osobowe = {\"Jan Kowalski\": {\"Wiek\": 30, \"Zawód\": \"Inżynier\", \"Miasto\": \"Warszawa\"},\n",
                "    \"Anna Nowak\": {\"Wiek\": 25, \"Zawód\": \"Nauczyciel\", \"Miasto\": \"Kraków\"},\n",
                "    \"Piotr Wiśniewski\": {\"Wiek\": 35, \"Zawód\": \"Lekarz\", \"Miasto\": \"Gdańsk\"}"
      ]
    },
    {
      "cell_type": "code",
      "source": [
        "\"Marta Nowak\": {\"Wiek\": 22, \"Zawód\": \"Student\", \"Miasto\": \"Poznań\"}"
      ],
      "metadata": {
        "id": "_0cwt4sp8MsN"
      },
      "execution_count": null,
      "outputs": []
    }
  ]
}
