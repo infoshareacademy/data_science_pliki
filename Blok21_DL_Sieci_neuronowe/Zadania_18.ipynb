{
  "nbformat": 4,
  "nbformat_minor": 0,
  "metadata": {
    "colab": {
      "provenance": []
    },
    "kernelspec": {
      "name": "python3",
      "display_name": "Python 3"
    },
    "language_info": {
      "name": "python"
    }
  },
  "cells": [
    {
      "cell_type": "markdown",
      "source": [
        "18.1\n",
        "\n",
        "Napisz poniższe funkcje aktywacji w języku Python i zobrazuj na wykresach ich funkcjonowanie."
      ],
      "metadata": {
        "id": "xvC-FyGb2X-m"
      }
    },
    {
      "cell_type": "code",
      "execution_count": null,
      "metadata": {
        "colab": {
          "base_uri": "https://localhost:8080/",
          "height": 887
        },
        "id": "kLNffPTn2IiZ",
        "outputId": "a39861da-eab1-473e-fcfe-58beddd02f25"
      },
      "outputs": [],
      "source": []
    },
    {
      "cell_type": "markdown",
      "source": [
        "18.2\n",
        "\n",
        "Napisz funkcję która przyjmie jako parametr:\n",
        "\n",
        "- stopień wielomianu\n",
        "- wartość inicjalizującą X\n",
        "- wektor stałych współczynników przy X\n",
        "\n",
        "Zwracać funkcja powinna wartość gradientu.\n",
        "\n",
        "Przykładowo dla wielomianu trzeciego rzędu: a+bx+cx^2\n",
        "Pochodna po x zwrócić powinna wynik z: 0+b+2cx\n"
      ],
      "metadata": {
        "id": "O5sTxysU47aw"
      }
    },
    {
      "cell_type": "code",
      "source": [],
      "metadata": {
        "id": "OBZGo49C48ZY"
      },
      "execution_count": null,
      "outputs": []
    },
    {
      "cell_type": "markdown",
      "source": [
        "18.3\n",
        "\n",
        "Zadaniem jest zbudowanie i wytrenowanie modelu sekwencyjnego w Tensorflow do przewidywania wystąpienia cukrzycy na podstawie zbioru danych dostępnego w bibliotece scikit-learn."
      ],
      "metadata": {
        "id": "vsHtdC2_6-ko"
      }
    },
    {
      "cell_type": "code",
      "source": [],
      "metadata": {
        "colab": {
          "base_uri": "https://localhost:8080/"
        },
        "id": "mGIFRiBx7AwP",
        "outputId": "1887d37f-e799-4454-907b-6b987ce8dcb6"
      },
      "execution_count": null,
      "outputs": []
    },
    {
      "cell_type": "markdown",
      "source": [
        "18.4\n",
        "\n",
        "Utwórz notatnik w Google Colab, w którym zbudujesz prosty model klasyfikacyjny przy użyciu biblioteki Tensorflow. Wykorzystaj zbiór danych Breast Cancer, aby stworzyć model, który będzie klasyfikował przypadki raka piersi na podstawie cech komórek."
      ],
      "metadata": {
        "id": "7RA5z1Ty70C1"
      }
    },
    {
      "cell_type": "code",
      "source": [],
      "metadata": {
        "colab": {
          "base_uri": "https://localhost:8080/"
        },
        "id": "CPcn_CZG711I",
        "outputId": "546c8f6b-4d9e-4a18-89f2-2d1a6820de54"
      },
      "execution_count": null,
      "outputs": []
    }
  ]
}