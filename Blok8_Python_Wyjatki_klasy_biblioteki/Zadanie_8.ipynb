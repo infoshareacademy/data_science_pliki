{
  "nbformat": 4,
  "nbformat_minor": 0,
  "metadata": {
    "colab": {
      "provenance": []
    },
    "kernelspec": {
      "name": "python3",
      "display_name": "Python 3"
    },
    "language_info": {
      "name": "python"
    }
  },
  "cells": [
    {
      "cell_type": "code",
      "execution_count": null,
      "metadata": {
        "id": "omz59Vo1_GX7"
      },
      "outputs": [],
      "source": [
        "class Osoba:\n",
        "    \"Obiekt, ktory reprezentuje osobe oraz jej cechy\"\n",
        "\n",
        "    def __init__(self, imie, nazwisko, wiek, wzrost):\n",
        "        \"Konstruktor klasy osoba\"\n",
        "        self.imie = imie\n",
        "        self.nazwisko = nazwisko\n",
        "        self.wiek = wiek\n",
        "        self.wzrost = wzrost\n",
        "\n",
        "    def przedstaw_sie(self):\n",
        "        \"Przedstawiam dana osobe\"\n",
        "        print(f\"Nazywam się {self.imie} {self.nazwisko} i mam {self.wiek} lat\")"
      ]
    }
  ]
}
