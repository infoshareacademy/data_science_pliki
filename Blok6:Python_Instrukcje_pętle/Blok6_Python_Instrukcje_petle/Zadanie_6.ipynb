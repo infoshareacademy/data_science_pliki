{
  "nbformat": 4,
  "nbformat_minor": 0,
  "metadata": {
    "colab": {
      "provenance": []
    },
    "kernelspec": {
      "name": "python3",
      "display_name": "Python 3"
    },
    "language_info": {
      "name": "python"
    }
  },
  "cells": [
    {
      "cell_type": "code",
      "execution_count": null,
      "metadata": {
        "id": "lFB2Tjl2KfMi"
      },
      "outputs": [],
      "source": [
        "dane_osobowe = {\n",
        "\"imie\": \"Jan\",\n",
        "\"nazwisko\": \"Kowalski\",\n",
        "\"wiek\": 30,\n",
        "\"miasto\": \"Warszawa\",\n",
        "\"telefon\": \"123-456-789\"\n",
        "}"
      ]
    },
    {
      "cell_type": "code",
      "source": [],
      "metadata": {
        "id": "XGiNDbHCLDLO"
      },
      "execution_count": null,
      "outputs": []
    }
  ]
}
