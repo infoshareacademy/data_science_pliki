{
  "nbformat": 4,
  "nbformat_minor": 0,
  "metadata": {
    "colab": {
      "provenance": []
    },
    "kernelspec": {
      "name": "python3",
      "display_name": "Python 3"
    },
    "language_info": {
      "name": "python"
    }
  },
  "cells": [
    {
      "cell_type": "markdown",
      "source": [
        "14.1\n",
        "\n",
        "PrzeprowadĹş AnalizÄ SkĹadowych GĹĂłwnych (PCA) na zbiorze danych o winach."
      ],
      "metadata": {
        "id": "6MhzEjzB0Brc"
      }
    },
    {
      "cell_type": "code",
      "execution_count": null,
      "metadata": {
        "colab": {
          "base_uri": "https://localhost:8080/",
          "height": 715
        },
        "id": "xsdmbj4CyvUo",
        "outputId": "6614a805-7f3a-417a-ad11-dc77f0f4bed7"
      },
      "outputs": [],
      "source": [
        "from sklearn.datasets import load_wine\n",
        "from sklearn.decomposition import PCA\n",
        "from sklearn.preprocessing import StandardScaler\n",
        "import matplotlib.pyplot as plt\n",
        "import pandas as pd\n",
        "\n",
        "# 1. Wczytanie zbioru danych o winach\n",
        "wine = load_wine()\n",
        "X = wine.data\n",
        "y = wine.target\n",
        "feature_names = wine.feature_names\n",
        "\n",
        "# 2. Standaryzacja danych\n",
        "scaler = StandardScaler()\n",
        "X_scaled = scaler.fit_transform(X)\n",
        "\n",
        "# 3. Przeprowadzenie PCA\n",
        "pca = PCA(n_components=2)  # Redukcja do 2 wymiarĂłw dla wizualizacji\n",
        "X_pca = pca.fit_transform(X_scaled)\n",
        "\n",
        "# 4. Obliczenie wyjaĹnionej wariancji\n",
        "explained_variance = pca.explained_variance_ratio_\n",
        "\n",
        "# 5. Tworzenie wykresu PCA\n",
        "plt.figure(figsize=(10, 6))\n",
        "scatter = plt.scatter(X_pca[:, 0], X_pca[:, 1], c=y, cmap='viridis', edgecolor='k', s=50)\n",
        "plt.xlabel(f'PC1 ({explained_variance[0]*100:.2f}% wyjaĹnionej wariancji)')\n",
        "plt.ylabel(f'PC2 ({explained_variance[1]*100:.2f}% wyjaĹnionej wariancji)')\n",
        "plt.title('Wizualizacja PCA dla zbioru danych Wine')\n",
        "plt.colorbar(scatter, label='Klasy wina')\n",
        "plt.grid()\n",
        "plt.tight_layout()\n",
        "plt.show()\n",
        "\n",
        "# 6. WyĹwietlenie komponentĂłw PCA\n",
        "pca_components = pd.DataFrame(pca.components_, columns=feature_names, index=['PC1', 'PC2'])\n",
        "pca_components"
      ]
    },
    {
      "cell_type": "markdown",
      "source": [
        "14.2\n",
        "\n",
        "PrzeprowadĹş analizÄ struktury zbioru danych dotyczÄcego samochodĂłw  za pomocÄ algorytmu t-SNE."
      ],
      "metadata": {
        "id": "pZxIS5ZY0as0"
      }
    },
    {
      "cell_type": "code",
      "source": [
        "from sklearn.manifold import TSNE\n",
        "from sklearn.preprocessing import StandardScaler\n",
        "import pandas as pd\n",
        "import matplotlib.pyplot as plt\n",
        "\n",
        "# Przygotowanie danych (przykĹadowy zbiĂłr danych, naleĹźy podmieniÄ na 'vehicles')\n",
        "from sklearn.datasets import load_iris  # ZamieĹ na rzeczywisty zbiĂłr 'load_vehicles'\n",
        "data = load_iris()  # ZamieĹ na 'load_vehicles()'\n",
        "X = pd.DataFrame(data.data, columns=data.feature_names)\n",
        "y = data.target\n",
        "\n",
        "# 1. Standaryzacja danych\n",
        "scaler = StandardScaler()\n",
        "X_scaled = scaler.fit_transform(X)\n",
        "\n",
        "# 2. Przeprowadzenie t-SNE\n",
        "tsne = TSNE(n_components=2, random_state=42)\n",
        "X_tsne = tsne.fit_transform(X_scaled)\n",
        "\n",
        "# 3. Wizualizacja wynikĂłw\n",
        "plt.figure(figsize=(10, 6))\n",
        "scatter = plt.scatter(X_tsne[:, 0], X_tsne[:, 1], c=y, cmap='viridis', edgecolor='k', s=50)\n",
        "plt.colorbar(scatter, label='Klasy')\n",
        "plt.title('Wizualizacja struktury danych za pomocą t-SNE')\n",
        "plt.xlabel('t-SNE1')\n",
        "plt.ylabel('t-SNE2')\n",
        "plt.grid()\n",
        "plt.tight_layout()\n",
        "plt.show()"
      ],
      "metadata": {
        "colab": {
          "base_uri": "https://localhost:8080/",
          "height": 607
        },
        "id": "yOsxU54E0kiw",
        "outputId": "e0c1c74e-829a-4285-e84f-e94fccbec8e3"
      },
      "execution_count": null,
      "outputs": []
    },
    {
      "cell_type": "markdown",
      "source": [
        "14.3\n",
        "\n",
        "Dla zbioru danych dotyczÄcego cukrzycy (load_diabetes) dostÄpny w bibliotece scikit-learn, stwĂłrz model regresji przy uĹźyciu xgBoost, ktĂłry przewiduje progresjÄ choroby na podstawie rĂłĹźnych cech pacjentĂłw."
      ],
      "metadata": {
        "id": "q0QQ04r_1Jlg"
      }
    },
    {
      "cell_type": "code",
      "source": [
        "from sklearn.datasets import load_diabetes\n",
        "from sklearn.model_selection import train_test_split\n",
        "from xgboost import XGBRegressor\n",
        "from sklearn.metrics import mean_squared_error\n",
        "\n",
        "# 1. Wczytanie danych\n",
        "data = load_diabetes()\n",
        "X = data.data\n",
        "y = data.target\n",
        "\n",
        "# 2. PodziaĹ danych na zbiĂłr treningowy i testowy\n",
        "X_train, X_test, y_train, y_test = train_test_split(X, y, test_size=0.3, random_state=42)\n",
        "\n",
        "# 3. Tworzenie i trening modelu XGBoost\n",
        "xgb_model = XGBRegressor(objective='reg:squarederror', random_state=42)\n",
        "xgb_model.fit(X_train, y_train)\n",
        "\n",
        "# 4. Predykcja\n",
        "y_pred = xgb_model.predict(X_test)\n",
        "\n",
        "# 5. Obliczanie bĹÄdu Ĺredniokwadratowego (MSE)\n",
        "mse = mean_squared_error(y_test, y_pred)\n",
        "\n",
        "mse"
      ],
      "metadata": {
        "colab": {
          "base_uri": "https://localhost:8080/"
        },
        "id": "9hr92zvs1KzU",
        "outputId": "727958df-8ce7-4c48-beb7-2d352eec896a"
      },
      "execution_count": null,
      "outputs": []
    },
    {
      "cell_type": "markdown",
      "source": [
        "14.4\n",
        "\n",
        "Wytrenuj klasyfikator xgboost na syntetycznym zbiorze danych i porĂłwnaj go z Random Forest (na tych samych parametrach)."
      ],
      "metadata": {
        "id": "H-R3yL0K1LPW"
      }
    },
    {
      "cell_type": "code",
      "source": [
        "from sklearn.datasets import make_classification\n",
        "from sklearn.model_selection import train_test_split\n",
        "from xgboost import XGBClassifier\n",
        "from sklearn.ensemble import RandomForestClassifier\n",
        "from sklearn.metrics import accuracy_score\n",
        "\n",
        "# 1. Tworzenie syntetycznego zbioru danych\n",
        "X, y = make_classification(n_samples=1000, n_features=20, n_classes=2, random_state=42)\n",
        "\n",
        "# 2. PodziaĹ danych na zbiĂłr treningowy i testowy\n",
        "X_train, X_test, y_train, y_test = train_test_split(X, y, test_size=0.3, random_state=42)\n",
        "\n",
        "# 3. Tworzenie i trenowanie modelu XGBoost\n",
        "xgb_model = XGBClassifier(random_state=42)\n",
        "xgb_model.fit(X_train, y_train)\n",
        "\n",
        "# 4. Tworzenie i trenowanie modelu Random Forest\n",
        "rf_model = RandomForestClassifier(random_state=42)\n",
        "rf_model.fit(X_train, y_train)\n",
        "\n",
        "# 5. Predykcja na zbiorze testowym\n",
        "y_pred_xgb = xgb_model.predict(X_test)\n",
        "y_pred_rf = rf_model.predict(X_test)\n",
        "\n",
        "# 6. Obliczanie dokĹadnoĹci\n",
        "accuracy_xgb = accuracy_score(y_test, y_pred_xgb)\n",
        "accuracy_rf = accuracy_score(y_test, y_pred_rf)\n",
        "\n",
        "accuracy_xgb, accuracy_rf"
      ],
      "metadata": {
        "colab": {
          "base_uri": "https://localhost:8080/"
        },
        "id": "Z7dxJNln1Ljm",
        "outputId": "82937603-ba48-4fee-d443-77ac4de75ecd"
      },
      "execution_count": null,
      "outputs": []
    }
  ]
}