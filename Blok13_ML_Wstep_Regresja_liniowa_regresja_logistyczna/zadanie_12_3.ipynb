{
  "nbformat": 4,
  "nbformat_minor": 0,
  "metadata": {
    "colab": {
      "provenance": []
    },
    "kernelspec": {
      "name": "python3",
      "display_name": "Python 3"
    },
    "language_info": {
      "name": "python"
    }
  },
  "cells": [
    {
      "cell_type": "code",
      "execution_count": null,
      "metadata": {
        "id": "DLgCfrP-WT3Y"
      },
      "outputs": [],
      "source": [
        "data = np.array([\n",
        "[160, 55],\n",
        "[170, 65],\n",
        "[155, 50],\n",
        "[180, 75],\n",
        "[175, 70]\n",
        "])"
      ]
    }
  ]
}
