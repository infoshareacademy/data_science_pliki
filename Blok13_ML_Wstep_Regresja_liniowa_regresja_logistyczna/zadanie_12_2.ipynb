{
  "nbformat": 4,
  "nbformat_minor": 0,
  "metadata": {
    "colab": {
      "provenance": []
    },
    "kernelspec": {
      "name": "python3",
      "display_name": "Python 3"
    },
    "language_info": {
      "name": "python"
    }
  },
  "cells": [
    {
      "cell_type": "code",
      "execution_count": null,
      "metadata": {
        "id": "DLgCfrP-WT3Y"
      },
      "outputs": [],
      "source": [
        "film_data = np.array([\n",
        "[75, 8.0, 120, 3.5],\n",
        "[90, 7.5, 150, 4.0],\n",
        "[60, 6.0, 100, 3.2],\n",
        "[80, 8.5, 130, 4.5],\n",
        "[70, 7.0, 110, 3.8]\n",
        "])"
      ]
    }
  ]
}
